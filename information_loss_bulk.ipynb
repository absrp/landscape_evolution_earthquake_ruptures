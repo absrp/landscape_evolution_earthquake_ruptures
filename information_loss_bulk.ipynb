{
 "cells": [
  {
   "cell_type": "markdown",
   "metadata": {},
   "source": [
    "### Simulating, visualizing, and quantifying the information loss in scarps associated with landscape evolution\n",
    "\n",
    "Author: Alba M. Rodriguez Padilla"
   ]
  },
  {
   "cell_type": "markdown",
   "metadata": {},
   "source": [
    "### load Python packages"
   ]
  },
  {
   "cell_type": "code",
   "execution_count": null,
   "metadata": {},
   "outputs": [],
   "source": [
    "%load_ext autoreload\n",
    "%autoreload 2\n",
    "\n",
    "import numpy as np\n",
    "from pylab import show, figure, plot\n",
    "import time\n",
    "from landlab import RasterModelGrid\n",
    "from landlab.plot.imshow import imshow_grid\n",
    "from landlab.io import read_esri_ascii\n",
    "import matplotlib.pyplot as plt\n",
    "import os\n",
    "import geopandas as gpd\n",
    "from scipy import stats\n",
    "from osgeo import gdal\n",
    "import glob\n",
    "from PIL import Image\n",
    "import matplotlib.cbook as cbook\n",
    "import scipy.optimize\n",
    "from scipy.optimize import curve_fit\n",
    "from matplotlib_scalebar.scalebar import ScaleBar\n",
    "import matplotlib as mpl\n",
    "mpl.rcParams['font.size'] = 8\n",
    "import utils\n",
    "import pandas as pd\n",
    "\n",
    "import warnings\n",
    "warnings.filterwarnings(\"ignore\")"
   ]
  },
  {
   "cell_type": "code",
   "execution_count": 2,
   "metadata": {},
   "outputs": [],
   "source": [
    "# check if Figures/ and Code output csv/ directories exist, otherwise create them\n",
    "if not os.path.exists('Figures'):\n",
    "    os.makedirs('Figures')\n",
    "    \n",
    "if not os.path.exists('Code output csv'):\n",
    "    os.makedirs('Code output csv')"
   ]
  },
  {
   "cell_type": "markdown",
   "metadata": {},
   "source": [
    "### User-defined features"
   ]
  },
  {
   "cell_type": "code",
   "execution_count": 3,
   "metadata": {},
   "outputs": [],
   "source": [
    "n_iter = np.array(\n",
    "    [0, 2, 20, 100, 200]\n",
    ")  # number of iterations (total_time = n_iter * dt) at which to produce output,\n",
    "\n",
    "# input file locations\n",
    "DEM_dir = \"DEMs/\"\n",
    "fault_trace_shapefile_dir = \"Shps_fault_traces/\"\n",
    "FZW_shapefile_dir = \"Shps_FZW/\"\n",
    "epsg_code = 32611  # Ridgecrest and EMC UTM 11N\n",
    "excel_filename = \"Code output csv/information_loss_analysis_outputs.csv\"\n",
    "linear_or_nonlinear = (\n",
    "    \"linear\"  # choice to use linear or nonlinear (Taylor) diffuser in landlab\n",
    ")\n",
    "\n",
    "save_fig_YN = \"Yes\"  # if Yes, all pdfs get saved to Figures/ directory\n",
    "save_data_excel_YN = \"Yes\"  # if Yes, info gets appended to csv file\n",
    "\n",
    "if save_data_excel_YN == \"Yes\":  # clean up older file\n",
    "    if os.path.exists(excel_filename):\n",
    "        os.remove(excel_filename)\n",
    "        \n",
    "initial_slopes = [] # save in text file for soil_flux_slope_comparison background histogram "
   ]
  },
  {
   "cell_type": "markdown",
   "metadata": {},
   "source": [
    "### Plot landscape evolution, line evolution, height evolution, and slope evolution over time"
   ]
  },
  {
   "cell_type": "code",
   "execution_count": 4,
   "metadata": {},
   "outputs": [
    {
     "name": "stdout",
     "output_type": "stream",
     "text": [
      "E9\n",
      "E8\n",
      "R1\n",
      "R3\n",
      "R2\n",
      "R6\n",
      "R7\n",
      "R5\n",
      "R4\n",
      "R10\n",
      "E10\n",
      "R9\n",
      "E1\n",
      "R8\n",
      "E3\n",
      "E2\n",
      "E6\n",
      "E7\n",
      "E5\n",
      "E4\n"
     ]
    }
   ],
   "source": [
    "DEMs_shapefiles = utils.load_shapefiles_for_DEMs(DEM_dir, fault_trace_shapefile_dir, FZW_shapefile_dir)\n",
    "\n",
    "for dem_name, shapefile_data in DEMs_shapefiles.items():\n",
    "    shapefiles_fault_traces = shapefile_data['fault_traces']\n",
    "    shapefiles_FZW = shapefile_data['width_lines']\n",
    "    \n",
    "    # Extract DEM ID\n",
    "    first_char = dem_name[0]\n",
    "    numeric_chars = \"\".join(filter(str.isdigit, dem_name))\n",
    "    DEMID = first_char + numeric_chars\n",
    "\n",
    "    if linear_or_nonlinear == \"linear\":\n",
    "        line_length, line_width, coeff_t, years_t, initial_slopes = (\n",
    "            utils.plot_evolution_time_linear(\n",
    "                n_iter,\n",
    "                dem_name,\n",
    "                shapefiles_fault_traces,\n",
    "                shapefiles_FZW,\n",
    "                epsg_code,\n",
    "                save_fig_YN,\n",
    "                initial_slopes,\n",
    "                D=0.001,\n",
    "            )\n",
    "        )\n",
    "        diffusion_type = \"linear\"\n",
    "    elif linear_or_nonlinear == \"nonlinear\":\n",
    "        line_length, coeff_t, years_t, _ = utils.plot_evolution_time_nonlinear(\n",
    "            n_iter, dem_name, shapefiles_fault_traces, shapefiles_FZW, epsg_code, save_fig_YN, [], D=0.001\n",
    "        )\n",
    "        diffusion_type = \"nonlinear\"\n",
    "    else:\n",
    "        NameError(\"User must choose linear or nonlinear diffusion\")\n",
    "    plt.close() # so that I can upload file to github without huge memory sink\n",
    "    print(dem_name)\n",
    "    first_char = dem_name[0]\n",
    "    numeric_chars = \"\".join(filter(str.isdigit, dem_name))\n",
    "    DEMID = first_char + numeric_chars\n",
    "\n",
    "    if first_char == \"R\":\n",
    "        location = \"Ridgecrest\"\n",
    "    elif first_char == \"E\":\n",
    "        location = \"EMC\"\n",
    "    else:\n",
    "        NameError(\"File name must start with R or E\")\n",
    "\n",
    "    repeated_locations = [location for _ in line_length]\n",
    "    dem_ID = [DEMID for _ in line_length]\n",
    "\n",
    "    combined_data = {\n",
    "        \"Length (m)\": line_length,\n",
    "        \"Width (m)\": line_width,\n",
    "        \"Degradation coefficient\": coeff_t,\n",
    "        \"Diffusion type\": diffusion_type,\n",
    "        \"Time (years)\": years_t,\n",
    "        \"DEM ID\": dem_ID,\n",
    "        \"Location\": repeated_locations,\n",
    "    }\n",
    "\n",
    "    df = pd.DataFrame(combined_data)\n",
    "\n",
    "    if save_data_excel_YN == \"Yes\":\n",
    "        dem_row = df\n",
    "\n",
    "        if not os.path.exists(excel_filename):\n",
    "            data_to_save = df\n",
    "        else:\n",
    "            data_to_save = pd.read_csv(excel_filename)\n",
    "            data_to_save = pd.concat([data_to_save, dem_row], ignore_index=True)\n",
    "\n",
    "        data_to_save.to_csv(excel_filename, index=False)\n",
    "        if linear_or_nonlinear == \"linear\" and initial_slopes:\n",
    "            initial_slopes_array = np.concatenate(initial_slopes)\n",
    "            np.savetxt('Code output csv/initial_slopes.txt', initial_slopes_array)\n",
    "        "
   ]
  }
 ],
 "metadata": {
  "kernelspec": {
   "display_name": "scarp_erosion",
   "language": "python",
   "name": "python3"
  },
  "language_info": {
   "codemirror_mode": {
    "name": "ipython",
    "version": 3
   },
   "file_extension": ".py",
   "mimetype": "text/x-python",
   "name": "python",
   "nbconvert_exporter": "python",
   "pygments_lexer": "ipython3",
   "version": "3.12.3"
  }
 },
 "nbformat": 4,
 "nbformat_minor": 2
}
